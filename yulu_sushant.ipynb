{
 "cells": [
  {
   "cell_type": "markdown",
   "id": "2901dba0",
   "metadata": {},
   "source": [
    "# <center>Yulu Business Case Study</center>       "
   ]
  },
  {
   "cell_type": "markdown",
   "id": "04b764d3",
   "metadata": {},
   "source": [
    "## Introduction\n",
    "\n",
    "Yulu is India’s leading micro-mobility service provider, which offers unique vehicles for the daily commute. Starting off as a mission to eliminate traffic congestion in India, Yulu provides the safest commute solution through a user-friendly mobile app to enable shared, solo and sustainable commuting.\n",
    "\n",
    "Yulu zones are located at all the appropriate locations (including metro stations, bus stands, office spaces, residential areas, corporate offices, etc) to make those first and last miles smooth, affordable, and convenient!"
   ]
  },
  {
   "cell_type": "markdown",
   "id": "d1bc83e5",
   "metadata": {},
   "source": [
    "### Problem Statement\n",
    "\n",
    "Yulu, a leading micro-mobility service provider in India, is experiencing a decline in revenue and seeks to understand the factors affecting the demand for its shared electric cycles. The objective is to identify significant variables that influence demand and determine how well these variables explain the market trends. By analyzing these factors, Yulu aims to optimize its operations and boost demand for its shared electric cycles across different locations in the Indian market."
   ]
  },
  {
   "cell_type": "code",
   "execution_count": 1,
   "id": "07ccbd58",
   "metadata": {},
   "outputs": [],
   "source": [
    "#Import the required libraries\n",
    "\n",
    "import numpy as np\n",
    "import pandas as pd\n",
    "import matplotlib.pyplot as plt\n",
    "import seaborn as sns\n",
    "from scipy.stats import ttest_ind,f_oneway, levene, kruskal, shapiro, chi2_contingency\n",
    "from statsmodels.graphics.gofplots import qqplot\n",
    "import warnings\n",
    "warnings.filterwarnings('ignore')"
   ]
  },
  {
   "cell_type": "markdown",
   "id": "90376c6c",
   "metadata": {},
   "source": [
    "### 1. Exploratory Data Analysis <br>\n",
    "The analysis was conducted on the data located at - https://d2beiqkhq929f0.cloudfront.net/public_assets/assets/000/001/428/original/bike_sharing.csv?1642089089"
   ]
  },
  {
   "cell_type": "code",
   "execution_count": 2,
   "id": "0fe04ae4",
   "metadata": {},
   "outputs": [],
   "source": [
    "#Load the dataset\n",
    "df = pd.read_csv(\"bike_sharing.csv\")"
   ]
  },
  {
   "cell_type": "code",
   "execution_count": 3,
   "id": "88d27539",
   "metadata": {},
   "outputs": [
    {
     "data": {
      "text/html": [
       "<div>\n",
       "<style scoped>\n",
       "    .dataframe tbody tr th:only-of-type {\n",
       "        vertical-align: middle;\n",
       "    }\n",
       "\n",
       "    .dataframe tbody tr th {\n",
       "        vertical-align: top;\n",
       "    }\n",
       "\n",
       "    .dataframe thead th {\n",
       "        text-align: right;\n",
       "    }\n",
       "</style>\n",
       "<table border=\"1\" class=\"dataframe\">\n",
       "  <thead>\n",
       "    <tr style=\"text-align: right;\">\n",
       "      <th></th>\n",
       "      <th>datetime</th>\n",
       "      <th>season</th>\n",
       "      <th>holiday</th>\n",
       "      <th>workingday</th>\n",
       "      <th>weather</th>\n",
       "      <th>temp</th>\n",
       "      <th>atemp</th>\n",
       "      <th>humidity</th>\n",
       "      <th>windspeed</th>\n",
       "      <th>casual</th>\n",
       "      <th>registered</th>\n",
       "      <th>count</th>\n",
       "    </tr>\n",
       "  </thead>\n",
       "  <tbody>\n",
       "    <tr>\n",
       "      <th>0</th>\n",
       "      <td>2011-01-01 00:00:00</td>\n",
       "      <td>1</td>\n",
       "      <td>0</td>\n",
       "      <td>0</td>\n",
       "      <td>1</td>\n",
       "      <td>9.84</td>\n",
       "      <td>14.395</td>\n",
       "      <td>81</td>\n",
       "      <td>0.0</td>\n",
       "      <td>3</td>\n",
       "      <td>13</td>\n",
       "      <td>16</td>\n",
       "    </tr>\n",
       "    <tr>\n",
       "      <th>1</th>\n",
       "      <td>2011-01-01 01:00:00</td>\n",
       "      <td>1</td>\n",
       "      <td>0</td>\n",
       "      <td>0</td>\n",
       "      <td>1</td>\n",
       "      <td>9.02</td>\n",
       "      <td>13.635</td>\n",
       "      <td>80</td>\n",
       "      <td>0.0</td>\n",
       "      <td>8</td>\n",
       "      <td>32</td>\n",
       "      <td>40</td>\n",
       "    </tr>\n",
       "    <tr>\n",
       "      <th>2</th>\n",
       "      <td>2011-01-01 02:00:00</td>\n",
       "      <td>1</td>\n",
       "      <td>0</td>\n",
       "      <td>0</td>\n",
       "      <td>1</td>\n",
       "      <td>9.02</td>\n",
       "      <td>13.635</td>\n",
       "      <td>80</td>\n",
       "      <td>0.0</td>\n",
       "      <td>5</td>\n",
       "      <td>27</td>\n",
       "      <td>32</td>\n",
       "    </tr>\n",
       "    <tr>\n",
       "      <th>3</th>\n",
       "      <td>2011-01-01 03:00:00</td>\n",
       "      <td>1</td>\n",
       "      <td>0</td>\n",
       "      <td>0</td>\n",
       "      <td>1</td>\n",
       "      <td>9.84</td>\n",
       "      <td>14.395</td>\n",
       "      <td>75</td>\n",
       "      <td>0.0</td>\n",
       "      <td>3</td>\n",
       "      <td>10</td>\n",
       "      <td>13</td>\n",
       "    </tr>\n",
       "    <tr>\n",
       "      <th>4</th>\n",
       "      <td>2011-01-01 04:00:00</td>\n",
       "      <td>1</td>\n",
       "      <td>0</td>\n",
       "      <td>0</td>\n",
       "      <td>1</td>\n",
       "      <td>9.84</td>\n",
       "      <td>14.395</td>\n",
       "      <td>75</td>\n",
       "      <td>0.0</td>\n",
       "      <td>0</td>\n",
       "      <td>1</td>\n",
       "      <td>1</td>\n",
       "    </tr>\n",
       "  </tbody>\n",
       "</table>\n",
       "</div>"
      ],
      "text/plain": [
       "              datetime  season  holiday  workingday  weather  temp   atemp  \\\n",
       "0  2011-01-01 00:00:00       1        0           0        1  9.84  14.395   \n",
       "1  2011-01-01 01:00:00       1        0           0        1  9.02  13.635   \n",
       "2  2011-01-01 02:00:00       1        0           0        1  9.02  13.635   \n",
       "3  2011-01-01 03:00:00       1        0           0        1  9.84  14.395   \n",
       "4  2011-01-01 04:00:00       1        0           0        1  9.84  14.395   \n",
       "\n",
       "   humidity  windspeed  casual  registered  count  \n",
       "0        81        0.0       3          13     16  \n",
       "1        80        0.0       8          32     40  \n",
       "2        80        0.0       5          27     32  \n",
       "3        75        0.0       3          10     13  \n",
       "4        75        0.0       0           1      1  "
      ]
     },
     "execution_count": 3,
     "metadata": {},
     "output_type": "execute_result"
    }
   ],
   "source": [
    "df.head()\n"
   ]
  },
  {
   "cell_type": "code",
   "execution_count": 4,
   "id": "526b5dcf",
   "metadata": {},
   "outputs": [
    {
     "name": "stdout",
     "output_type": "stream",
     "text": [
      "No of rows/Datapoints: 10886 \n",
      "No of Columns/Features: 12\n"
     ]
    }
   ],
   "source": [
    "print(f'No of rows/Datapoints: {df.shape[0]} \\nNo of Columns/Features: {df.shape[1]}')"
   ]
  },
  {
   "cell_type": "code",
   "execution_count": 5,
   "id": "9719a923",
   "metadata": {},
   "outputs": [
    {
     "name": "stdout",
     "output_type": "stream",
     "text": [
      "<class 'pandas.core.frame.DataFrame'>\n",
      "RangeIndex: 10886 entries, 0 to 10885\n",
      "Data columns (total 12 columns):\n",
      " #   Column      Non-Null Count  Dtype  \n",
      "---  ------      --------------  -----  \n",
      " 0   datetime    10886 non-null  object \n",
      " 1   season      10886 non-null  int64  \n",
      " 2   holiday     10886 non-null  int64  \n",
      " 3   workingday  10886 non-null  int64  \n",
      " 4   weather     10886 non-null  int64  \n",
      " 5   temp        10886 non-null  float64\n",
      " 6   atemp       10886 non-null  float64\n",
      " 7   humidity    10886 non-null  int64  \n",
      " 8   windspeed   10886 non-null  float64\n",
      " 9   casual      10886 non-null  int64  \n",
      " 10  registered  10886 non-null  int64  \n",
      " 11  count       10886 non-null  int64  \n",
      "dtypes: float64(3), int64(8), object(1)\n",
      "memory usage: 1020.7+ KB\n"
     ]
    }
   ],
   "source": [
    "# Checking the structure of the dataset\n",
    "df.info()"
   ]
  },
  {
   "cell_type": "markdown",
   "id": "84b4e202",
   "metadata": {},
   "source": [
    "- **Datatype of following features/attributes needs to change from int,float to an object(categorical) type. This helps the machine learning model understand that the values are not numeric but represent categories.** <br>\n",
    "1) **datetime** - to datetime data type<br>\n",
    "2) **season** - to categorical(object)<br>\n",
    "3) **holiday** - to categorical(object)<br>\n",
    "4) **workingday** - to categorical(object)<br>\n",
    "5) **weather** - to categorical(object)<br>"
   ]
  },
  {
   "cell_type": "code",
   "execution_count": 6,
   "id": "64b9d684",
   "metadata": {},
   "outputs": [],
   "source": [
    "df['datetime'] = pd.to_datetime(df['datetime'])"
   ]
  },
  {
   "cell_type": "code",
   "execution_count": 7,
   "id": "1f6238fe",
   "metadata": {},
   "outputs": [],
   "source": [
    "cat_cols = ['season','holiday','workingday','weather']\n",
    "for i in cat_cols:\n",
    "    df[i] = df[i].astype('object')"
   ]
  },
  {
   "cell_type": "code",
   "execution_count": 8,
   "id": "8345a34d",
   "metadata": {},
   "outputs": [
    {
     "name": "stdout",
     "output_type": "stream",
     "text": [
      "<class 'pandas.core.frame.DataFrame'>\n",
      "RangeIndex: 10886 entries, 0 to 10885\n",
      "Data columns (total 12 columns):\n",
      " #   Column      Non-Null Count  Dtype         \n",
      "---  ------      --------------  -----         \n",
      " 0   datetime    10886 non-null  datetime64[ns]\n",
      " 1   season      10886 non-null  object        \n",
      " 2   holiday     10886 non-null  object        \n",
      " 3   workingday  10886 non-null  object        \n",
      " 4   weather     10886 non-null  object        \n",
      " 5   temp        10886 non-null  float64       \n",
      " 6   atemp       10886 non-null  float64       \n",
      " 7   humidity    10886 non-null  int64         \n",
      " 8   windspeed   10886 non-null  float64       \n",
      " 9   casual      10886 non-null  int64         \n",
      " 10  registered  10886 non-null  int64         \n",
      " 11  count       10886 non-null  int64         \n",
      "dtypes: datetime64[ns](1), float64(3), int64(4), object(4)\n",
      "memory usage: 1020.7+ KB\n"
     ]
    }
   ],
   "source": [
    "#rechecking the datatypes of the features\n",
    "df.info()"
   ]
  },
  {
   "cell_type": "code",
   "execution_count": 9,
   "id": "b5b2b697",
   "metadata": {},
   "outputs": [
    {
     "data": {
      "text/html": [
       "<div>\n",
       "<style scoped>\n",
       "    .dataframe tbody tr th:only-of-type {\n",
       "        vertical-align: middle;\n",
       "    }\n",
       "\n",
       "    .dataframe tbody tr th {\n",
       "        vertical-align: top;\n",
       "    }\n",
       "\n",
       "    .dataframe thead th {\n",
       "        text-align: right;\n",
       "    }\n",
       "</style>\n",
       "<table border=\"1\" class=\"dataframe\">\n",
       "  <thead>\n",
       "    <tr style=\"text-align: right;\">\n",
       "      <th></th>\n",
       "      <th>datetime</th>\n",
       "      <th>season</th>\n",
       "      <th>holiday</th>\n",
       "      <th>workingday</th>\n",
       "      <th>weather</th>\n",
       "      <th>temp</th>\n",
       "      <th>atemp</th>\n",
       "      <th>humidity</th>\n",
       "      <th>windspeed</th>\n",
       "      <th>casual</th>\n",
       "      <th>registered</th>\n",
       "      <th>count</th>\n",
       "    </tr>\n",
       "  </thead>\n",
       "  <tbody>\n",
       "    <tr>\n",
       "      <th>count</th>\n",
       "      <td>10886</td>\n",
       "      <td>10886.0</td>\n",
       "      <td>10886.0</td>\n",
       "      <td>10886.0</td>\n",
       "      <td>10886.0</td>\n",
       "      <td>10886.00000</td>\n",
       "      <td>10886.000000</td>\n",
       "      <td>10886.000000</td>\n",
       "      <td>10886.000000</td>\n",
       "      <td>10886.000000</td>\n",
       "      <td>10886.000000</td>\n",
       "      <td>10886.000000</td>\n",
       "    </tr>\n",
       "    <tr>\n",
       "      <th>unique</th>\n",
       "      <td>10886</td>\n",
       "      <td>4.0</td>\n",
       "      <td>2.0</td>\n",
       "      <td>2.0</td>\n",
       "      <td>4.0</td>\n",
       "      <td>NaN</td>\n",
       "      <td>NaN</td>\n",
       "      <td>NaN</td>\n",
       "      <td>NaN</td>\n",
       "      <td>NaN</td>\n",
       "      <td>NaN</td>\n",
       "      <td>NaN</td>\n",
       "    </tr>\n",
       "    <tr>\n",
       "      <th>top</th>\n",
       "      <td>2011-01-01 00:00:00</td>\n",
       "      <td>4.0</td>\n",
       "      <td>0.0</td>\n",
       "      <td>1.0</td>\n",
       "      <td>1.0</td>\n",
       "      <td>NaN</td>\n",
       "      <td>NaN</td>\n",
       "      <td>NaN</td>\n",
       "      <td>NaN</td>\n",
       "      <td>NaN</td>\n",
       "      <td>NaN</td>\n",
       "      <td>NaN</td>\n",
       "    </tr>\n",
       "    <tr>\n",
       "      <th>freq</th>\n",
       "      <td>1</td>\n",
       "      <td>2734.0</td>\n",
       "      <td>10575.0</td>\n",
       "      <td>7412.0</td>\n",
       "      <td>7192.0</td>\n",
       "      <td>NaN</td>\n",
       "      <td>NaN</td>\n",
       "      <td>NaN</td>\n",
       "      <td>NaN</td>\n",
       "      <td>NaN</td>\n",
       "      <td>NaN</td>\n",
       "      <td>NaN</td>\n",
       "    </tr>\n",
       "    <tr>\n",
       "      <th>first</th>\n",
       "      <td>2011-01-01 00:00:00</td>\n",
       "      <td>NaN</td>\n",
       "      <td>NaN</td>\n",
       "      <td>NaN</td>\n",
       "      <td>NaN</td>\n",
       "      <td>NaN</td>\n",
       "      <td>NaN</td>\n",
       "      <td>NaN</td>\n",
       "      <td>NaN</td>\n",
       "      <td>NaN</td>\n",
       "      <td>NaN</td>\n",
       "      <td>NaN</td>\n",
       "    </tr>\n",
       "    <tr>\n",
       "      <th>last</th>\n",
       "      <td>2012-12-19 23:00:00</td>\n",
       "      <td>NaN</td>\n",
       "      <td>NaN</td>\n",
       "      <td>NaN</td>\n",
       "      <td>NaN</td>\n",
       "      <td>NaN</td>\n",
       "      <td>NaN</td>\n",
       "      <td>NaN</td>\n",
       "      <td>NaN</td>\n",
       "      <td>NaN</td>\n",
       "      <td>NaN</td>\n",
       "      <td>NaN</td>\n",
       "    </tr>\n",
       "    <tr>\n",
       "      <th>mean</th>\n",
       "      <td>NaN</td>\n",
       "      <td>NaN</td>\n",
       "      <td>NaN</td>\n",
       "      <td>NaN</td>\n",
       "      <td>NaN</td>\n",
       "      <td>20.23086</td>\n",
       "      <td>23.655084</td>\n",
       "      <td>61.886460</td>\n",
       "      <td>12.799395</td>\n",
       "      <td>36.021955</td>\n",
       "      <td>155.552177</td>\n",
       "      <td>191.574132</td>\n",
       "    </tr>\n",
       "    <tr>\n",
       "      <th>std</th>\n",
       "      <td>NaN</td>\n",
       "      <td>NaN</td>\n",
       "      <td>NaN</td>\n",
       "      <td>NaN</td>\n",
       "      <td>NaN</td>\n",
       "      <td>7.79159</td>\n",
       "      <td>8.474601</td>\n",
       "      <td>19.245033</td>\n",
       "      <td>8.164537</td>\n",
       "      <td>49.960477</td>\n",
       "      <td>151.039033</td>\n",
       "      <td>181.144454</td>\n",
       "    </tr>\n",
       "    <tr>\n",
       "      <th>min</th>\n",
       "      <td>NaN</td>\n",
       "      <td>NaN</td>\n",
       "      <td>NaN</td>\n",
       "      <td>NaN</td>\n",
       "      <td>NaN</td>\n",
       "      <td>0.82000</td>\n",
       "      <td>0.760000</td>\n",
       "      <td>0.000000</td>\n",
       "      <td>0.000000</td>\n",
       "      <td>0.000000</td>\n",
       "      <td>0.000000</td>\n",
       "      <td>1.000000</td>\n",
       "    </tr>\n",
       "    <tr>\n",
       "      <th>25%</th>\n",
       "      <td>NaN</td>\n",
       "      <td>NaN</td>\n",
       "      <td>NaN</td>\n",
       "      <td>NaN</td>\n",
       "      <td>NaN</td>\n",
       "      <td>13.94000</td>\n",
       "      <td>16.665000</td>\n",
       "      <td>47.000000</td>\n",
       "      <td>7.001500</td>\n",
       "      <td>4.000000</td>\n",
       "      <td>36.000000</td>\n",
       "      <td>42.000000</td>\n",
       "    </tr>\n",
       "    <tr>\n",
       "      <th>50%</th>\n",
       "      <td>NaN</td>\n",
       "      <td>NaN</td>\n",
       "      <td>NaN</td>\n",
       "      <td>NaN</td>\n",
       "      <td>NaN</td>\n",
       "      <td>20.50000</td>\n",
       "      <td>24.240000</td>\n",
       "      <td>62.000000</td>\n",
       "      <td>12.998000</td>\n",
       "      <td>17.000000</td>\n",
       "      <td>118.000000</td>\n",
       "      <td>145.000000</td>\n",
       "    </tr>\n",
       "    <tr>\n",
       "      <th>75%</th>\n",
       "      <td>NaN</td>\n",
       "      <td>NaN</td>\n",
       "      <td>NaN</td>\n",
       "      <td>NaN</td>\n",
       "      <td>NaN</td>\n",
       "      <td>26.24000</td>\n",
       "      <td>31.060000</td>\n",
       "      <td>77.000000</td>\n",
       "      <td>16.997900</td>\n",
       "      <td>49.000000</td>\n",
       "      <td>222.000000</td>\n",
       "      <td>284.000000</td>\n",
       "    </tr>\n",
       "    <tr>\n",
       "      <th>max</th>\n",
       "      <td>NaN</td>\n",
       "      <td>NaN</td>\n",
       "      <td>NaN</td>\n",
       "      <td>NaN</td>\n",
       "      <td>NaN</td>\n",
       "      <td>41.00000</td>\n",
       "      <td>45.455000</td>\n",
       "      <td>100.000000</td>\n",
       "      <td>56.996900</td>\n",
       "      <td>367.000000</td>\n",
       "      <td>886.000000</td>\n",
       "      <td>977.000000</td>\n",
       "    </tr>\n",
       "  </tbody>\n",
       "</table>\n",
       "</div>"
      ],
      "text/plain": [
       "                   datetime   season  holiday  workingday  weather  \\\n",
       "count                 10886  10886.0  10886.0     10886.0  10886.0   \n",
       "unique                10886      4.0      2.0         2.0      4.0   \n",
       "top     2011-01-01 00:00:00      4.0      0.0         1.0      1.0   \n",
       "freq                      1   2734.0  10575.0      7412.0   7192.0   \n",
       "first   2011-01-01 00:00:00      NaN      NaN         NaN      NaN   \n",
       "last    2012-12-19 23:00:00      NaN      NaN         NaN      NaN   \n",
       "mean                    NaN      NaN      NaN         NaN      NaN   \n",
       "std                     NaN      NaN      NaN         NaN      NaN   \n",
       "min                     NaN      NaN      NaN         NaN      NaN   \n",
       "25%                     NaN      NaN      NaN         NaN      NaN   \n",
       "50%                     NaN      NaN      NaN         NaN      NaN   \n",
       "75%                     NaN      NaN      NaN         NaN      NaN   \n",
       "max                     NaN      NaN      NaN         NaN      NaN   \n",
       "\n",
       "               temp         atemp      humidity     windspeed        casual  \\\n",
       "count   10886.00000  10886.000000  10886.000000  10886.000000  10886.000000   \n",
       "unique          NaN           NaN           NaN           NaN           NaN   \n",
       "top             NaN           NaN           NaN           NaN           NaN   \n",
       "freq            NaN           NaN           NaN           NaN           NaN   \n",
       "first           NaN           NaN           NaN           NaN           NaN   \n",
       "last            NaN           NaN           NaN           NaN           NaN   \n",
       "mean       20.23086     23.655084     61.886460     12.799395     36.021955   \n",
       "std         7.79159      8.474601     19.245033      8.164537     49.960477   \n",
       "min         0.82000      0.760000      0.000000      0.000000      0.000000   \n",
       "25%        13.94000     16.665000     47.000000      7.001500      4.000000   \n",
       "50%        20.50000     24.240000     62.000000     12.998000     17.000000   \n",
       "75%        26.24000     31.060000     77.000000     16.997900     49.000000   \n",
       "max        41.00000     45.455000    100.000000     56.996900    367.000000   \n",
       "\n",
       "          registered         count  \n",
       "count   10886.000000  10886.000000  \n",
       "unique           NaN           NaN  \n",
       "top              NaN           NaN  \n",
       "freq             NaN           NaN  \n",
       "first            NaN           NaN  \n",
       "last             NaN           NaN  \n",
       "mean      155.552177    191.574132  \n",
       "std       151.039033    181.144454  \n",
       "min         0.000000      1.000000  \n",
       "25%        36.000000     42.000000  \n",
       "50%       118.000000    145.000000  \n",
       "75%       222.000000    284.000000  \n",
       "max       886.000000    977.000000  "
      ]
     },
     "execution_count": 9,
     "metadata": {},
     "output_type": "execute_result"
    }
   ],
   "source": [
    "df.describe(include='all')  #inculde='all' displays both numerical and categorical variables details"
   ]
  },
  {
   "cell_type": "markdown",
   "id": "bb8e5612",
   "metadata": {},
   "source": [
    "**Overview of data**\n",
    "- The dataset spans from **2011-01-01 00:00:00 to 2012-12-19 23:00:00,** covering nearly two full years of data.\n",
    "- Numerical features such as temperature, humidity, windspeed, and counts of casual and registered bike rentals show diverse ranges and distributions, highlighting the variability in rental patterns across different conditions."
   ]
  },
  {
   "cell_type": "code",
   "execution_count": 10,
   "id": "1b098344",
   "metadata": {},
   "outputs": [
    {
     "data": {
      "text/plain": [
       "datetime      0\n",
       "season        0\n",
       "holiday       0\n",
       "workingday    0\n",
       "weather       0\n",
       "temp          0\n",
       "atemp         0\n",
       "humidity      0\n",
       "windspeed     0\n",
       "casual        0\n",
       "registered    0\n",
       "count         0\n",
       "dtype: int64"
      ]
     },
     "execution_count": 10,
     "metadata": {},
     "output_type": "execute_result"
    }
   ],
   "source": [
    "df.isnull().sum() #checking number of missing values"
   ]
  },
  {
   "cell_type": "markdown",
   "id": "ed8d950a",
   "metadata": {},
   "source": [
    "- **The data does not contain any null values, hence no need of handling the missing data.**"
   ]
  },
  {
   "cell_type": "code",
   "execution_count": 11,
   "id": "6807aa8a",
   "metadata": {},
   "outputs": [
    {
     "data": {
      "text/plain": [
       "0"
      ]
     },
     "execution_count": 11,
     "metadata": {},
     "output_type": "execute_result"
    }
   ],
   "source": [
    "#To check duplicate values\n",
    "df.duplicated().sum()"
   ]
  },
  {
   "cell_type": "markdown",
   "id": "5ae22ac8",
   "metadata": {},
   "source": [
    "- There are no **duplicate entries.**"
   ]
  },
  {
   "cell_type": "markdown",
   "id": "ba1418a3",
   "metadata": {},
   "source": [
    "### 1.1 Analyzing the distribution of Numerical & Categorical variables."
   ]
  },
  {
   "cell_type": "code",
   "execution_count": 12,
   "id": "e1aadd76",
   "metadata": {},
   "outputs": [
    {
     "data": {
      "image/png": "[encoded data removed]",
      "text/plain": [
       "<Figure size 1008x720 with 9 Axes>"
      ]
     },
     "metadata": {
      "needs_background": "light"
     },
     "output_type": "display_data"
    }
   ],
   "source": [
    "# Plot distribution of numeric variables\n",
    "df.hist(figsize=(14, 10))\n",
    "plt.tight_layout()\n",
    "plt.show()"
   ]
  },
  {
   "cell_type": "markdown",
   "id": "a48259d5",
   "metadata": {},
   "source": [
    "### **Analysis of numerical variables**\n",
    "\n",
    "**Temp**\n",
    "- The 'temp' column exhibits a wide temperature range from 0.82 to 41.0 degrees Celsius, with a median of 20.5 and moderate variability around a mean of approximately 20.23 degrees.\n",
    "\n",
    "**atemp**\n",
    "- The 'atemp' column reveals a significant range of apparent temperatures, from 0.76 to 45.455 degrees, with an average of approximately 23.66 and moderate variability surrounding the median of 24.24.\n",
    "\n",
    "**Humidity**\n",
    "- The 'humidity' column illustrates a range of humidity values from 0 to 100, with an average of approximately 61.89. The distribution exhibits moderate variability, with the 25th percentile at 47 and the 75th percentile at 77, indicating a variety of humidity levels in the dataset.\n",
    "\n",
    "**WindSpeed**\n",
    "- The 'windspeed' column shows a range of wind speeds between 0 and 56.9979, with an average of approximately 12.80.\n",
    "\n",
    "**Casual**\n",
    "- The 'casual' column exhibits a wide range of bike rental counts, with values ranging from 0 to 367. The distribution is positively skewed, evidenced by the mean (36.02) being greater than the median (17.0).\n",
    "\n",
    "**Registered**\n",
    "- The 'registered' column exhibits a varied range of registered bike rental counts, from 0 to 886. The distribution is positively skewed, as indicated by the mean (155.55) being greater than the median (118.0).\n",
    "\n",
    "**Count**\n",
    "- The 'count' column indicates a wide range of total bike rental counts, from 1 to 977. The distribution is positively skewed, with a mean (191.57) that is higher than the median (145.0), reflecting a concentration of lower values."
   ]
  },
  {
   "cell_type": "code",
   "execution_count": 13,
   "id": "e60da060",
   "metadata": {},
   "outputs": [
    {
     "data": {
      "image/png": "[encoded data removed]",
      "text/plain": [
       "<Figure size 432x288 with 1 Axes>"
      ]
     },
     "metadata": {
      "needs_background": "light"
     },
     "output_type": "display_data"
    },
    {
     "data": {
      "image/png": "[encoded data removed]",
      "text/plain": [
       "<Figure size 432x288 with 1 Axes>"
      ]
     },
     "metadata": {
      "needs_background": "light"
     },
     "output_type": "display_data"
    },
    {
     "data": {
      "image/png": "[encoded data removed]",
      "text/plain": [
       "<Figure size 432x288 with 1 Axes>"
      ]
     },
     "metadata": {
      "needs_background": "light"
     },
     "output_type": "display_data"
    },
    {
     "data": {
      "image/png": "[encoded data removed]",
      "text/plain": [
       "<Figure size 432x288 with 1 Axes>"
      ]
     },
     "metadata": {
      "needs_background": "light"
     },
     "output_type": "display_data"
    }
   ],
   "source": [
    "# Plot count of categorical variables (season, weather, etc.)\n",
    "sns.countplot(x='season', data=df)\n",
    "plt.title('Season Distribution')\n",
    "plt.show()\n",
    "\n",
    "sns.countplot(x='weather', data=df)\n",
    "plt.title('Weather Distribution')\n",
    "plt.show()\n",
    "\n",
    "sns.countplot(x='holiday',data=df)\n",
    "plt.show('Holiday Distribution') #holiday -1 and rest - 0\n",
    "plt.show()\n",
    "\n",
    "sns.countplot(x='workingday',data=df)\n",
    "plt.show('workingday Distribution') #working day -1 and weekend - 0\n",
    "plt.show()"
   ]
  },
  {
   "cell_type": "markdown",
   "id": "2cff20ac",
   "metadata": {},
   "source": [
    "### Conclusion from Distribution Analysis\n",
    "\n",
    "1) **Numerical Variables:**\n",
    "- The distribution of temperature shows that demand is likely more stable at moderate temperatures, with extreme                  temperatures reducing rentals.\n",
    "-  Wind speed and humidity might have a minor effect, but higher values (high windspeed or humidity) could reduce rentals.\n",
    "\n",
    "2) **Categorical Variables:**\n",
    "-  Rentals likely peak during the summer and fall seasons, as they are more bike-friendly.\n",
    "-  Clear weather boosts demand, while foggy or rainy days see lower usage."
   ]
  },
  {
   "cell_type": "markdown",
   "id": "535aa0ee",
   "metadata": {},
   "source": [
    "### 1.2 Outlier detection"
   ]
  },
  {
   "cell_type": "code",
   "execution_count": 14,
   "id": "c738f87e",
   "metadata": {},
   "outputs": [
    {
     "data": {
      "image/png": "[encoded data removed]",
      "text/plain": [
       "<Figure size 1080x576 with 5 Axes>"
      ]
     },
     "metadata": {
      "needs_background": "light"
     },
     "output_type": "display_data"
    }
   ],
   "source": [
    "\n",
    "# Set the size of the plots\n",
    "plt.figure(figsize=(15, 8))\n",
    "\n",
    "# List of numerical columns to check for outliers\n",
    "numerical_cols = ['temp', 'atemp', 'humidity', 'windspeed', 'count']\n",
    "\n",
    "# Plot boxplots for each numerical variable\n",
    "for i, col in enumerate(numerical_cols, 1):\n",
    "    plt.subplot(2, 3, i)  # Create a subplot for each variable\n",
    "    sns.boxplot(x=col, data=df)\n",
    "    #plt.title(f'{col}')\n",
    "    #plt.xlabel(f'{col}')\n",
    "    \n",
    "plt.tight_layout()\n",
    "plt.show()\n"
   ]
  },
  {
   "cell_type": "code",
   "execution_count": 15,
   "id": "cad510b2",
   "metadata": {},
   "outputs": [
    {
     "data": {
      "image/png": "[encoded data removed]",
      "text/plain": [
       "<Figure size 864x576 with 4 Axes>"
      ]
     },
     "metadata": {
      "needs_background": "light"
     },
     "output_type": "display_data"
    }
   ],
   "source": [
    "# List of categorical variables\n",
    "categorical_vars = ['season', 'holiday', 'workingday', 'weather']\n",
    "\n",
    "# Create a figure for subplots\n",
    "plt.figure(figsize=(12, 8))\n",
    "\n",
    "# Loop through each categorical variable\n",
    "for i, var in enumerate(categorical_vars):\n",
    "    plt.subplot(2, 2, i+1) \n",
    "    sns.boxplot(x=var, y='count', data=df)  # Plot each variable against 'count'\n",
    "    plt.title(f'Boxplot of count by {var}')\n",
    "    plt.xlabel(var)\n",
    "    plt.ylabel('Count')\n",
    "\n",
    "plt.tight_layout()\n",
    "plt.show()\n"
   ]
  },
  {
   "cell_type": "markdown",
   "id": "cc75b533",
   "metadata": {},
   "source": [
    "- **Here the outliers represent real-world conditions (weather, demand fluctuations),so I would like to keep them for a more complete and realistic analysis. This will help Yulu understand demand under both normal and extreme conditions.**"
   ]
  },
  {
   "cell_type": "markdown",
   "id": "b3d89437",
   "metadata": {},
   "source": [
    "### 1.3 Multivariate analysis\n"
   ]
  },
  {
   "cell_type": "code",
   "execution_count": 16,
   "id": "d2c19faf",
   "metadata": {},
   "outputs": [
    {
     "data": {
      "image/png": "[encoded data removed]",
      "text/plain": [
       "<Figure size 1152x720 with 2 Axes>"
      ]
     },
     "metadata": {
      "needs_background": "light"
     },
     "output_type": "display_data"
    }
   ],
   "source": [
    "# correlation chart using heatmap\n",
    "plt.figure(figsize = (16, 10))\n",
    "sns.heatmap(df.corr(), annot = True)\n",
    "plt.show()"
   ]
  },
  {
   "cell_type": "markdown",
   "id": "9a07770d",
   "metadata": {},
   "source": [
    "### Correlation analysis\n",
    "\n",
    "#### Atemp:\n",
    "- Exhibits a strong positive correlation with 'temp' (0.98), indicating a close relationship.\n",
    "- Shows moderate positive correlations with 'casual' (0.46) and 'registered' (0.31).\n",
    "- Has a positive correlation with 'count' (0.39), suggesting a link to overall bike rentals.\n",
    "\n",
    "#### Temp (Temperature):\n",
    "- Highly correlated with 'atemp' (0.98), reflecting a strong connection.\n",
    "- Displays moderate positive correlations with 'casual' (0.47) and 'registered' (0.32).\n",
    "- Shows a positive correlation with 'count' (0.39), indicating a relationship with total bike rentals.\n",
    "\n",
    "#### Humidity:\n",
    "- Exhibits weak negative correlations with 'atemp' (-0.04) and 'temp' (-0.06).\n",
    "- Shows moderate negative correlations with 'casual' (-0.35), 'registered' (-0.27), and 'count' (-0.32), suggesting that higher humidity tends to correlate with fewer bike rentals.\n",
    "\n",
    "#### Windspeed:\n",
    "- Displays weak negative correlations with 'atemp' (-0.06) and 'temp' (-0.02).\n",
    "- Shows weak positive correlations with 'casual' (0.09), 'registered' (0.09), and 'count' (0.10), suggesting a subtle influence on bike rentals as wind speed increases.\n",
    "\n",
    "#### Casual (Casual Bike Rentals):\n",
    "- Strong positive correlation with 'atemp' (0.46) and 'temp' (0.47).\n",
    "- Moderate negative correlation with 'humidity' (-0.35) and a positive correlation with 'windspeed' (0.09).\n",
    "- Highly correlated with 'registered' (0.50) and 'count' (0.69), indicating a significant impact on overall rentals.\n",
    "\n",
    "#### Registered (Registered Bike Rentals):\n",
    "- Positive correlation with 'atemp' (0.31) and 'temp' (0.32).\n",
    "- Negative correlation with 'humidity' (-0.27) and positive correlation with 'windspeed' (0.09).\n",
    "- Highly correlated with 'casual' (0.50) and 'count' (0.97), emphasizing a substantial impact on overall rentals.\n",
    "\n",
    "#### Count (Total Bike Rentals):\n",
    "- Positive correlation with 'atemp' (0.39), 'temp' (0.39), and 'casual' (0.69).\n",
    "- Negative correlation with 'humidity' (-0.32).\n",
    "- Highly correlated with 'registered' (0.97), highlighting the combined effect of casual and registered rentals on the overall count."
   ]
  },
  {
   "cell_type": "markdown",
   "id": "a93aa4f1",
   "metadata": {},
   "source": [
    "## 2. Hypothesis Testing"
   ]
  },
  {
   "cell_type": "markdown",
   "id": "7fe2e046",
   "metadata": {},
   "source": [
    "### 2.1 Bike Demand on Weekdays vs. Weekends"
   ]
  },
  {
   "cell_type": "markdown",
   "id": "7d449e38",
   "metadata": {},
   "source": [
    "Since we have two independent samples, we can go with two sample independent T-Test.\n",
    "\n",
    "Assumptions of Two Sample Independent T-Test :\n",
    "\n",
    "- **The data should be normally distributed** \n",
    "- **variances of the two groups should be equal**\n",
    "\n",
    "Let the Confidence interval be 95%, so siginificance (alpha) is 0.05"
   ]
  },
  {
   "cell_type": "markdown",
   "id": "ee51a914",
   "metadata": {},
   "source": [
    "**To determine whether a given dataset follows a normal distribution we will perform Shapiro-Wilk test.**\n",
    "\n",
    "The Test Hypothesis for Shapiro-Wilk test are:\n",
    "- Null Hypothesis (Ho): The data is normally distributed.\n",
    "- Alternative Hypothesis (Ha): The data is not normally distributed."
   ]
  },
  {
   "cell_type": "code",
   "execution_count": 17,
   "id": "aa24c6b7",
   "metadata": {},
   "outputs": [
    {
     "data": {
      "text/plain": [
       "2.634152735936368e-07"
      ]
     },
     "execution_count": 17,
     "metadata": {},
     "output_type": "execute_result"
    }
   ],
   "source": [
    "np.random.seed(41)\n",
    "df_subset = df.sample(100)[\"count\"]\n",
    "test_stat, p_val = shapiro(df_subset)\n",
    "p_val"
   ]
  },
  {
   "cell_type": "markdown",
   "id": "142d32af",
   "metadata": {},
   "source": [
    "As p-value is less than significance value(0.05) we reject Null Hypothesis(Ho).<br>\n",
    "**Therefore data is not Normally distributed**"
   ]
  },
  {
   "cell_type": "markdown",
   "id": "036fa06c",
   "metadata": {},
   "source": [
    "#### Q-Q plot Analysis"
   ]
  },
  {
   "cell_type": "code",
   "execution_count": 18,
   "id": "0f000deb",
   "metadata": {},
   "outputs": [
    {
     "data": {
      "image/png": "[encoded data removed]",
      "text/plain": [
       "<Figure size 432x288 with 1 Axes>"
      ]
     },
     "metadata": {
      "needs_background": "light"
     },
     "output_type": "display_data"
    }
   ],
   "source": [
    "qqplot(df['count'], line = 's')\n",
    "plt.show()"
   ]
  },
  {
   "cell_type": "markdown",
   "id": "af7ee8fe",
   "metadata": {},
   "source": [
    "**Q-Q Plot Interpretations:**\n",
    "- Normal Distribution: Points closely follow the line with little to no deviation.\n",
    "- Right-Skewed Distribution: Points will curve upward away from the line.\n",
    "- Left-Skewed Distribution: Points will curve downward away from the line.\n",
    "- Heavy Tails: Points form an S-shape, indicating that the tails are more extreme than a normal distribution."
   ]
  },
  {
   "cell_type": "markdown",
   "id": "72d0c601",
   "metadata": {},
   "source": [
    "**We will perform Levene's test to check if the variances of two groups are equal**\n",
    "\n",
    "The Test Hypothesis for Levene's test are:\n",
    "- Ho: The variances are equal.<br>\n",
    "- Ha: The variances are not equal."
   ]
  },
  {
   "cell_type": "code",
   "execution_count": 19,
   "id": "0501def1",
   "metadata": {},
   "outputs": [
    {
     "data": {
      "text/plain": [
       "0.9437823280916695"
      ]
     },
     "execution_count": 19,
     "metadata": {},
     "output_type": "execute_result"
    }
   ],
   "source": [
    "working_day = df[df['workingday'] == 1]['count']\n",
    "\n",
    "weekend = df[df['workingday'] == 0]['count']\n",
    "\n",
    "levene_stat, p_val = levene(working_day, weekend)\n",
    "\n",
    "p_val"
   ]
  },
  {
   "cell_type": "code",
   "execution_count": 20,
   "id": "e888f8f2",
   "metadata": {},
   "outputs": [
    {
     "data": {
      "text/plain": [
       "<AxesSubplot:xlabel='count', ylabel='Density'>"
      ]
     },
     "execution_count": 20,
     "metadata": {},
     "output_type": "execute_result"
    },
    {
     "data": {
      "image/png": "[encoded data removed]",
      "text/plain": [
       "<Figure size 432x288 with 1 Axes>"
      ]
     },
     "metadata": {
      "needs_background": "light"
     },
     "output_type": "display_data"
    }
   ],
   "source": [
    "sns.kdeplot(data = df, x = 'count', hue = 'workingday')"
   ]
  },
  {
   "cell_type": "markdown",
   "id": "7e210c7c",
   "metadata": {},
   "source": [
    "As p_value is greater than the significance level,we fail to reject Null hypothesis.\n",
    "\n",
    "**Therefore, the variances are approximately equal.**\n",
    "\n",
    "- Despite the data is not normally distributed according to both the Wilkin-ShapiroTest and qq-plot\n",
    "- It is important to highlight that the variances between the two groups are equal\n",
    "\n",
    "**So we can proceed with the Two Sample Independent T-Test.**"
   ]
  },
  {
   "cell_type": "markdown",
   "id": "e48c148a",
   "metadata": {},
   "source": [
    "**Formulating the Hypothesis**\n",
    "- Ho - There is no significant difference in bike demand between weekdays and weekends.\n",
    "- Ha - There is a significant difference between working and non-working days."
   ]
  },
  {
   "cell_type": "code",
   "execution_count": 21,
   "id": "5de0c1c6",
   "metadata": {},
   "outputs": [
    {
     "data": {
      "text/plain": [
       "0.22644804226361348"
      ]
     },
     "execution_count": 21,
     "metadata": {},
     "output_type": "execute_result"
    }
   ],
   "source": [
    "ttest_stat, p_val = ttest_ind(working_day, weekend)\n",
    "p_val"
   ]
  },
  {
   "cell_type": "markdown",
   "id": "90800624",
   "metadata": {},
   "source": [
    "As p_value is greater than the significance level,we fail to reject Null hypothesis."
   ]
  },
  {
   "cell_type": "markdown",
   "id": "374a877a",
   "metadata": {},
   "source": [
    "**As T-tests assumption of normality had failed,so we can verify by performing Kruskal-Wallis test as it uses sample medians to compare the groups.**"
   ]
  },
  {
   "cell_type": "code",
   "execution_count": 22,
   "id": "a8b8d127",
   "metadata": {},
   "outputs": [
    {
     "data": {
      "text/plain": [
       "0.9679113872727798"
      ]
     },
     "execution_count": 22,
     "metadata": {},
     "output_type": "execute_result"
    }
   ],
   "source": [
    "kruskal_stat, p_val = kruskal(working_day, weekend)\n",
    "\n",
    "p_val"
   ]
  },
  {
   "cell_type": "markdown",
   "id": "acb09623",
   "metadata": {},
   "source": [
    "Again p_value is greater than the significance level,we fail to reject Null hypothesis.\n",
    "\n",
    "**Therefore, there is no significant difference in bike demand between weekdays and weekends.**"
   ]
  },
  {
   "cell_type": "markdown",
   "id": "31723aec",
   "metadata": {},
   "source": [
    "### 2.2 Bike demand in different weather conditions"
   ]
  },
  {
   "cell_type": "markdown",
   "id": "1a1234eb",
   "metadata": {},
   "source": [
    "**Here's why ANOVA is suitable:**\n",
    "- Bike demand (e.g., number of rides) is a continuous variable.\n",
    "- Weather conditions (e.g., sunny, rainy, cloudy, etc.) are categorical variables with multiple categories (groups).\n",
    "- We want to check whether the average bike demand differs across different weather conditions."
   ]
  },
  {
   "cell_type": "markdown",
   "id": "6122f224",
   "metadata": {},
   "source": [
    "So will use ANOVA as we have more than two categories now.\n",
    "\n",
    "**Assumptions for ANOVA are:**\n",
    "\n",
    "1. The population data should be normally distributed- The data is not normally distributed as verified above using **Wilkin-Shapiro test and the Q-Q plot.**<br>\n",
    "\n",
    "2. The data points must be independent- This condition is satisfied.<br>\n",
    "\n",
    "3. Approximately equal variance within groups- We will verify this using **Levene's test.**"
   ]
  },
  {
   "cell_type": "markdown",
   "id": "8a9dc602",
   "metadata": {},
   "source": [
    "**The Test hypothesis for Leven's are:**\n",
    "- Ho:The varinaces are equal\n",
    "- Ha:The variances are not equal"
   ]
  },
  {
   "cell_type": "code",
   "execution_count": 23,
   "id": "dd69d1fb",
   "metadata": {},
   "outputs": [],
   "source": [
    "weather1 = df[df['weather'] == 1]['count']\n",
    "weather2 = df[df['weather'] == 2]['count']\n",
    "weather3 = df[df['weather'] == 3]['count']\n",
    "weather4 = df[df['weather'] == 4]['count']"
   ]
  },
  {
   "cell_type": "code",
   "execution_count": 24,
   "id": "e62e3c01",
   "metadata": {},
   "outputs": [
    {
     "data": {
      "text/plain": [
       "3.504937946833238e-35"
      ]
     },
     "execution_count": 24,
     "metadata": {},
     "output_type": "execute_result"
    }
   ],
   "source": [
    "levene_stat, p_val = levene(weather1, weather2, weather3,weather4)\n",
    "\n",
    "p_val"
   ]
  },
  {
   "cell_type": "markdown",
   "id": "6b61d3a9",
   "metadata": {},
   "source": [
    "As p-value is less than significance value we reject Null Hypothesis(Ho).<br>\n",
    "**Therefore, the variances are not equal.**"
   ]
  },
  {
   "cell_type": "markdown",
   "id": "74b1ff72",
   "metadata": {},
   "source": [
    "- Two of the three assumptions of ANOVA are not met, **however we will still perform ANOVA**.\n",
    "\n",
    "- Then we will also perform **Kruskal's test and compare the test results**.\n",
    "\n",
    "- In case of any discrepancies, Kruskal's test results will be considered, since data doesn't met all the assumptions of ANOVA."
   ]
  },
  {
   "cell_type": "markdown",
   "id": "5844d15d",
   "metadata": {},
   "source": [
    "**The hypothesis for ANOVA and Kruskal's test are:**\n",
    "\n",
    "- Ho: There is no significant difference between demand of bicycles for different Weather conditions.<br>\n",
    "\n",
    "- Ha: There is a significant difference between demand of bicycles for different Weather conditions."
   ]
  },
  {
   "cell_type": "code",
   "execution_count": 25,
   "id": "4ed5ab0b",
   "metadata": {},
   "outputs": [
    {
     "data": {
      "text/plain": [
       "5.482069475935669e-42"
      ]
     },
     "execution_count": 25,
     "metadata": {},
     "output_type": "execute_result"
    }
   ],
   "source": [
    "#Anova test for different weather conditions\n",
    "anova_stat, p_val = f_oneway(weather1,weather2,weather3,weather4)\n",
    "p_val"
   ]
  },
  {
   "cell_type": "markdown",
   "id": "7bc019d1",
   "metadata": {},
   "source": [
    "As p-value is less than significance value we reject Null Hypothesis(Ho).<br>\n"
   ]
  },
  {
   "cell_type": "code",
   "execution_count": 26,
   "id": "c82611c2",
   "metadata": {},
   "outputs": [
    {
     "data": {
      "text/plain": [
       "3.501611300708679e-44"
      ]
     },
     "execution_count": 26,
     "metadata": {},
     "output_type": "execute_result"
    }
   ],
   "source": [
    "#Kruskal test for different weather conditions\n",
    "kruskal_stat, p_val = kruskal(weather1, weather2, weather3,weather4)\n",
    "\n",
    "p_val"
   ]
  },
  {
   "cell_type": "markdown",
   "id": "7f0bd8dd",
   "metadata": {},
   "source": [
    "Again the p-value is less than significance level(0.05) we reject Null Hypothesis(Ho).\n",
    "\n",
    "**So we can conclude that, there is a significant difference between demand of bicycles for different weather conditions.**"
   ]
  },
  {
   "cell_type": "markdown",
   "id": "338017ab",
   "metadata": {},
   "source": [
    "### 2.3 Bike demand in different seasons"
   ]
  },
  {
   "cell_type": "markdown",
   "id": "32a0df36",
   "metadata": {},
   "source": [
    "Similar to weather, the seasons variable also has more than two categories so we will use ANOVA.<br>\n",
    "\n",
    "**Assumptions for ANOVA are:**\n",
    "\n",
    "1. The population data should be normally distributed- The data is not normally distributed as verified above using **Wilkin-        Shapiro test and the qqplot.**<br>\n",
    "\n",
    "2. The data points must be independent- This condition is satisfied.<br>\n",
    "\n",
    "3. Approximately equal variance within groups- We will verify this using **Levene's test**."
   ]
  },
  {
   "cell_type": "markdown",
   "id": "56ee881a",
   "metadata": {},
   "source": [
    "**The Test hypothesis for Levene's test are:**\n",
    "\n",
    "- Ho: The variances are equal.\n",
    "\n",
    "- Ha: The variances are not equal."
   ]
  },
  {
   "cell_type": "code",
   "execution_count": 27,
   "id": "d0646c12",
   "metadata": {},
   "outputs": [
    {
     "data": {
      "text/plain": [
       "1.0147116860043298e-118"
      ]
     },
     "execution_count": 27,
     "metadata": {},
     "output_type": "execute_result"
    }
   ],
   "source": [
    "spring = df[df['season'] == 1]['count']\n",
    "summer = df[df['season'] == 2]['count']\n",
    "fall = df[df['season'] == 3]['count']\n",
    "winter = df[df['season'] == 4]['count']\n",
    "\n",
    "levene_stat, p_val = levene(spring,summer,fall,winter)\n",
    "\n",
    "p_val"
   ]
  },
  {
   "cell_type": "markdown",
   "id": "5368c376",
   "metadata": {},
   "source": [
    "As p-value is less than significance value we reject Null Hypothesis(Ho).\n",
    "\n",
    "**Therefore, the variances are not equal.**"
   ]
  },
  {
   "cell_type": "markdown",
   "id": "9bcb4bb0",
   "metadata": {},
   "source": [
    "- Here as well 2 out of 3 assumptions of ANOVA are not met, **however we will still perform ANOVA.**\n",
    "- Then we will also perform Kruskal's test and compare the test results.\n",
    "- In case of any discrepancies, Kruskal's test results will be considered, since data doesn't met all the assumptions of ANOVA."
   ]
  },
  {
   "cell_type": "markdown",
   "id": "1a7e3d89",
   "metadata": {},
   "source": [
    "**Formulating the Hypothesis for ANOVA and Kruskal test**\n",
    "- Ho: There is no significant difference between demand of bicycles for different Seasons.\n",
    "\n",
    "- Ha: There is a significant difference between demand of bicycles for different Seasons."
   ]
  },
  {
   "cell_type": "code",
   "execution_count": 28,
   "id": "b6013dac",
   "metadata": {},
   "outputs": [
    {
     "data": {
      "text/plain": [
       "6.164843386499654e-149"
      ]
     },
     "execution_count": 28,
     "metadata": {},
     "output_type": "execute_result"
    }
   ],
   "source": [
    "#ANOVA test for different seasons\n",
    "anova_stat, p_val = f_oneway(spring ,summer, fall, winter)\n",
    "\n",
    "p_val"
   ]
  },
  {
   "cell_type": "code",
   "execution_count": 29,
   "id": "14487f8e",
   "metadata": {},
   "outputs": [
    {
     "name": "stdout",
     "output_type": "stream",
     "text": [
      "Reject the null hypothesis. Bike demand differs across seasons.\n"
     ]
    }
   ],
   "source": [
    "if p_val < 0.05:\n",
    "    print(\"Reject the null hypothesis. Bike demand differs across seasons.\")\n",
    "else:\n",
    "    print(\"Fail to reject the null hypothesis. Bike demand does not differ across seasons.\")"
   ]
  },
  {
   "cell_type": "code",
   "execution_count": 30,
   "id": "93253945",
   "metadata": {},
   "outputs": [
    {
     "data": {
      "text/plain": [
       "2.479008372608633e-151"
      ]
     },
     "execution_count": 30,
     "metadata": {},
     "output_type": "execute_result"
    }
   ],
   "source": [
    "# Kruskal test for different seasons\n",
    "kruskal_stat, p_val = kruskal(spring ,summer, fall, winter)\n",
    "\n",
    "p_val"
   ]
  },
  {
   "cell_type": "markdown",
   "id": "e08e0169",
   "metadata": {},
   "source": [
    "Again the p-value is less than significance level(0.05) so we reject Null Hypothesis(Ho).\n",
    "\n",
    "**So we can conclude that, there is a significant difference between demand of bicycles for different seasons.**"
   ]
  },
  {
   "cell_type": "markdown",
   "id": "2610688f",
   "metadata": {},
   "source": [
    "### 2.4) Analysis of weather conditions in different seasons"
   ]
  },
  {
   "cell_type": "markdown",
   "id": "1c6e973a",
   "metadata": {},
   "source": [
    "As we have two categorical variables i.e weather and seasons, the **Chi-Square test** is used to determine if there is an association or independence between them."
   ]
  },
  {
   "cell_type": "markdown",
   "id": "29cc8c31",
   "metadata": {},
   "source": [
    "**Hypothesis for Chi-Square:**\n",
    "- Ho: Season and Weather are independent of each other.\n",
    "- Ha: Season and Weather are dependent on each other."
   ]
  },
  {
   "cell_type": "code",
   "execution_count": 31,
   "id": "dc2028c8",
   "metadata": {},
   "outputs": [
    {
     "data": {
      "text/html": [
       "<div>\n",
       "<style scoped>\n",
       "    .dataframe tbody tr th:only-of-type {\n",
       "        vertical-align: middle;\n",
       "    }\n",
       "\n",
       "    .dataframe tbody tr th {\n",
       "        vertical-align: top;\n",
       "    }\n",
       "\n",
       "    .dataframe thead th {\n",
       "        text-align: right;\n",
       "    }\n",
       "</style>\n",
       "<table border=\"1\" class=\"dataframe\">\n",
       "  <thead>\n",
       "    <tr style=\"text-align: right;\">\n",
       "      <th>season</th>\n",
       "      <th>1</th>\n",
       "      <th>2</th>\n",
       "      <th>3</th>\n",
       "      <th>4</th>\n",
       "    </tr>\n",
       "    <tr>\n",
       "      <th>weather</th>\n",
       "      <th></th>\n",
       "      <th></th>\n",
       "      <th></th>\n",
       "      <th></th>\n",
       "    </tr>\n",
       "  </thead>\n",
       "  <tbody>\n",
       "    <tr>\n",
       "      <th>1</th>\n",
       "      <td>1759</td>\n",
       "      <td>1801</td>\n",
       "      <td>1930</td>\n",
       "      <td>1702</td>\n",
       "    </tr>\n",
       "    <tr>\n",
       "      <th>2</th>\n",
       "      <td>715</td>\n",
       "      <td>708</td>\n",
       "      <td>604</td>\n",
       "      <td>807</td>\n",
       "    </tr>\n",
       "    <tr>\n",
       "      <th>3</th>\n",
       "      <td>211</td>\n",
       "      <td>224</td>\n",
       "      <td>199</td>\n",
       "      <td>225</td>\n",
       "    </tr>\n",
       "    <tr>\n",
       "      <th>4</th>\n",
       "      <td>1</td>\n",
       "      <td>0</td>\n",
       "      <td>0</td>\n",
       "      <td>0</td>\n",
       "    </tr>\n",
       "  </tbody>\n",
       "</table>\n",
       "</div>"
      ],
      "text/plain": [
       "season      1     2     3     4\n",
       "weather                        \n",
       "1        1759  1801  1930  1702\n",
       "2         715   708   604   807\n",
       "3         211   224   199   225\n",
       "4           1     0     0     0"
      ]
     },
     "execution_count": 31,
     "metadata": {},
     "output_type": "execute_result"
    }
   ],
   "source": [
    "contingency_table = pd.crosstab(df['weather'], df['season'])\n",
    "contingency_table"
   ]
  },
  {
   "cell_type": "code",
   "execution_count": 32,
   "id": "ca9f0ac9",
   "metadata": {},
   "outputs": [
    {
     "data": {
      "text/plain": [
       "1.5499250736864862e-07"
      ]
     },
     "execution_count": 32,
     "metadata": {},
     "output_type": "execute_result"
    }
   ],
   "source": [
    "chi2_stat,p_val,dof,expected = chi2_contingency(contingency_table)\n",
    "p_val"
   ]
  },
  {
   "cell_type": "markdown",
   "id": "fef8ddcf",
   "metadata": {},
   "source": [
    "As p-value is less than significance level we reject Null Hypothesis(Ho).\n",
    "\n",
    "**Therefore, we can conclude that there is an association between the weather conditions and the seasons (i.e., the distribution of weather conditions depends on the season).**"
   ]
  },
  {
   "cell_type": "markdown",
   "id": "ade0deac",
   "metadata": {},
   "source": [
    "\n",
    "### 3. Insights from hypothesis testing:\n",
    "1. **Seasonality Effect**: There is a significant difference in bike demand across seasons, with higher rentals during summer and fall, indicating seasonality as a major driver of demand.\n",
    "2. **Weather Impact**: Weather conditions significantly influence demand. Clear and sunny days see higher bike usage, whereas rainy or foggy weather reduces demand.\n",
    "3. **Weekend vs. Weekday Demand**: The analysis shows no significant difference in bike demand between weekdays and weekends, suggesting consistent usage across the week.\n",
    "4. **Registered vs Casual Riders**: Registered riders contribute significantly to overall rentals, with casual users showing more variation based on weather and other external factors.\n",
    "\n",
    "### 4. Recommendations:\n",
    "1. **Seasonal Promotions**: Yulu should focus on targeted promotions during peak seasons like summer and fall to maximize rentals. Offering discounts or loyalty programs during off-peak seasons (winter) could help maintain demand.\n",
    "2. **Weather-Responsive Pricing**: Introduce dynamic pricing based on weather conditions. Lowering prices during rainy or foggy days can help maintain usage during unfavorable weather.\n",
    "3. **Improve User Retention**: Since registered riders contribute heavily to total rentals, Yulu should focus on retention strategies such as personalized offers, subscriptions, and rewards to increase long-term user engagement.\n"
   ]
  }
 ],
 "metadata": {
  "kernelspec": {
   "display_name": "Python 3 (ipykernel)",
   "language": "python",
   "name": "python3"
  },
  "language_info": {
   "codemirror_mode": {
    "name": "ipython",
    "version": 3
   },
   "file_extension": ".py",
   "mimetype": "text/x-python",
   "name": "python",
   "nbconvert_exporter": "python",
   "pygments_lexer": "ipython3",
   "version": "3.9.7"
  }
 },
 "nbformat": 4,
 "nbformat_minor": 5
}
